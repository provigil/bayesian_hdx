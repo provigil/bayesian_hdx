{
 "cells": [
  {
   "cell_type": "code",
   "execution_count": 1,
   "metadata": {},
   "outputs": [],
   "source": [
    "from __future__ import print_function\n",
    "import matplotlib.pyplot as plt\n",
    "import itertools\n",
    "import mdtraj as md\n",
    "import mdtraj.testing\n",
    "import numpy as np\n",
    "import pandas as pd\n",
    "import wernet_nilsson as wn\n",
    "import baker_hubbard_pf as bh\n",
    "import seaborn as sns"
   ]
  },
  {
   "cell_type": "code",
   "execution_count": 2,
   "metadata": {},
   "outputs": [],
   "source": [
    "structure = bh.load_pdb_bio('prep_ala10.pdb')\n",
    "contacts = bh.count_heavy_atom_contacts_sigmoid(structure, distance_threshold=6.5, d0 = 0, k = 1)\n",
    "hbonds = bh.calculate_hbond_number('prep_ala10.pdb')\n"
   ]
  },
  {
   "cell_type": "code",
   "execution_count": 3,
   "metadata": {},
   "outputs": [
    {
     "data": {
      "text/plain": [
       "{5: 1, 6: 1, 7: 1, 8: 2, 9: 2, 10: 1, 1: 0, 2: 0, 3: 0, 4: 0}"
      ]
     },
     "execution_count": 3,
     "metadata": {},
     "output_type": "execute_result"
    }
   ],
   "source": [
    "hbonds"
   ]
  },
  {
   "cell_type": "code",
   "execution_count": 7,
   "metadata": {},
   "outputs": [
    {
     "data": {
      "text/plain": [
       "{1: 3.979780619472406,\n",
       " 2: 4.974318711201843,\n",
       " 3: 5.972876528519824,\n",
       " 4: 9.898936271600116,\n",
       " 5: 12.836704791411078,\n",
       " 6: 15.822378460386851,\n",
       " 7: 14.794725976399176,\n",
       " 8: 11.81629046886425,\n",
       " 9: 9.863355340866992,\n",
       " 10: 11.873714263902016}"
      ]
     },
     "execution_count": 7,
     "metadata": {},
     "output_type": "execute_result"
    }
   ],
   "source": [
    "# t = md.load_pdb('stateH+babel.pdb')\n",
    "# hbonds = md.baker_hubbard(t)\n",
    "# hbonds\n",
    "#drop duplicates of hbonds with th same hbond[0] abd hbond[2], but hbond[1] is can be different\n",
    "\n",
    "# def get_residues(t, hbond):\n",
    "#     res1 = t.topology.atom(hbond[0]).residue.index\n",
    "#     res2 = t.topology.atom(hbond[2]).residue.index\n",
    "#     return [res1, res2]\n",
    "# hbonds = md.baker_hubbard(t, periodic=False)\n",
    "# label = lambda hbond : '%s -- %s' % (t.topology.atom(hbond[0]), t.topology.atom(hbond[2]))\n",
    "# for hbond in hbonds:\n",
    "#     print(label(hbond))\n",
    "\n",
    "contacts"
   ]
  },
  {
   "cell_type": "code",
   "execution_count": 4,
   "metadata": {},
   "outputs": [],
   "source": [
    "#the eqution for protection factor is bh*contact + bc*hbond\n",
    "#bh and bc are the coefficients for the contact and hbond respectively\n",
    "def calculate_protection_factors(contacts, hbonds, bh = 0.35, bc = 2):\n",
    "    protection_factors = {}\n",
    "    for residue in contacts:\n",
    "        protection_factors[residue] = bh*contacts[residue] + bc*hbonds[residue]\n",
    "    return protection_factors\n",
    "pf = calculate_protection_factors(contacts, hbonds)"
   ]
  },
  {
   "cell_type": "code",
   "execution_count": 5,
   "metadata": {},
   "outputs": [
    {
     "data": {
      "text/html": [
       "<div>\n",
       "<style scoped>\n",
       "    .dataframe tbody tr th:only-of-type {\n",
       "        vertical-align: middle;\n",
       "    }\n",
       "\n",
       "    .dataframe tbody tr th {\n",
       "        vertical-align: top;\n",
       "    }\n",
       "\n",
       "    .dataframe thead th {\n",
       "        text-align: right;\n",
       "    }\n",
       "</style>\n",
       "<table border=\"1\" class=\"dataframe\">\n",
       "  <thead>\n",
       "    <tr style=\"text-align: right;\">\n",
       "      <th></th>\n",
       "      <th>res_num</th>\n",
       "      <th>pf</th>\n",
       "    </tr>\n",
       "  </thead>\n",
       "  <tbody>\n",
       "    <tr>\n",
       "      <th>0</th>\n",
       "      <td>1</td>\n",
       "      <td>1.392923</td>\n",
       "    </tr>\n",
       "    <tr>\n",
       "      <th>1</th>\n",
       "      <td>2</td>\n",
       "      <td>1.741012</td>\n",
       "    </tr>\n",
       "    <tr>\n",
       "      <th>2</th>\n",
       "      <td>3</td>\n",
       "      <td>2.090507</td>\n",
       "    </tr>\n",
       "    <tr>\n",
       "      <th>3</th>\n",
       "      <td>4</td>\n",
       "      <td>3.464628</td>\n",
       "    </tr>\n",
       "    <tr>\n",
       "      <th>4</th>\n",
       "      <td>5</td>\n",
       "      <td>6.492847</td>\n",
       "    </tr>\n",
       "    <tr>\n",
       "      <th>5</th>\n",
       "      <td>6</td>\n",
       "      <td>7.537832</td>\n",
       "    </tr>\n",
       "    <tr>\n",
       "      <th>6</th>\n",
       "      <td>7</td>\n",
       "      <td>7.178154</td>\n",
       "    </tr>\n",
       "    <tr>\n",
       "      <th>7</th>\n",
       "      <td>8</td>\n",
       "      <td>8.135702</td>\n",
       "    </tr>\n",
       "    <tr>\n",
       "      <th>8</th>\n",
       "      <td>9</td>\n",
       "      <td>7.452174</td>\n",
       "    </tr>\n",
       "    <tr>\n",
       "      <th>9</th>\n",
       "      <td>10</td>\n",
       "      <td>6.155800</td>\n",
       "    </tr>\n",
       "  </tbody>\n",
       "</table>\n",
       "</div>"
      ],
      "text/plain": [
       "   res_num        pf\n",
       "0        1  1.392923\n",
       "1        2  1.741012\n",
       "2        3  2.090507\n",
       "3        4  3.464628\n",
       "4        5  6.492847\n",
       "5        6  7.537832\n",
       "6        7  7.178154\n",
       "7        8  8.135702\n",
       "8        9  7.452174\n",
       "9       10  6.155800"
      ]
     },
     "execution_count": 5,
     "metadata": {},
     "output_type": "execute_result"
    }
   ],
   "source": [
    "#make this into a pandas dataframe\n",
    "df = pd.DataFrame.from_dict(pf, orient='index', columns=['Protection Factor'])\n",
    "df = df.reset_index()\n",
    "#rename index column to be res_num and protection factor to be pf\n",
    "df = df.rename(columns={'index': 'res_num', 'Protection Factor': 'pf'})\n",
    "df"
   ]
  },
  {
   "cell_type": "code",
   "execution_count": 6,
   "metadata": {},
   "outputs": [],
   "source": [
    "# dict = bh.estimate_protection_factors_sigmoid('stateH_H_new.pdb', distance_threshold=6.5) \n",
    "# dict_1 = bh.estimate_protection_factors_sigmoid('stateU_H_new.pdb')\n",
    "# #convert dictionary to dataframe\n",
    "# state2_imp = pd.DataFrame(list(dict.items()), columns=['res_num', 'yg_pf_2'])\n",
    "# state1_imp = pd.DataFrame(list(dict_1.items()), columns=['res_num', 'yg_pf_1'])\n",
    "# #merge dataframes\n",
    "# merged_imp = pd.merge(state1_imp, state2_imp, on='res_num')\n",
    "# #calculate the difference in protection factors\n",
    "# merged_imp['yg_diff'] = merged_imp['yg_pf_2'] - merged_imp['yg_pf_1']\n",
    "# merged_imp\n",
    "\n",
    "# sequence = 'MAPLRKTAVLKLYVAGNTPNSVRALKTLNNILEKEFKGVYALKVIDVLKNPQLAEEDKILATPTLAKVLPPPVRRIIGDLSNREKVLIALRLLAEEIGD'\n",
    "# #create a new column in merged_imp dataframe with the amino acid\n",
    "\n",
    "# merged_imp['aa'] = [sequence[i-1] for i in merged_imp['res_num']]\n",
    "# #drop rows that are proline or glycine\n",
    "# merged_imp = merged_imp[merged_imp['aa'] != 'P']\n",
    "# merged_imp = merged_imp[merged_imp['aa'] != 'G']"
   ]
  },
  {
   "cell_type": "code",
   "execution_count": 7,
   "metadata": {},
   "outputs": [
    {
     "name": "stderr",
     "output_type": "stream",
     "text": [
      "/var/folders/n0/ny5865_5769bgkky50n4qpg40000gp/T/ipykernel_72961/3528381.py:6: FutureWarning: The 'delim_whitespace' keyword in pd.read_csv is deprecated and will be removed in a future version. Use ``sep='\\s+'`` instead\n",
      "  state2_forrest = pd.read_csv(state2_forrest, delim_whitespace=True)\n"
     ]
    }
   ],
   "source": [
    "#read in hdxer data\n",
    "state1_forrest = '/Users/yuliagutierrez/Desktop/F24/sali_lab/rotation_project/stateU_logPF.dat'\n",
    "state2_forrest = '/Users/yuliagutierrez/Desktop/F24/sali_lab/rotation_project/ala10_PF.dat'\n",
    "\n",
    "# state1_forrest = pd.read_csv(state1_forrest, delim_whitespace=True)\n",
    "state2_forrest = pd.read_csv(state2_forrest, delim_whitespace=True)\n",
    "\n",
    "# state1_forrest.rename(columns={'#': 'res_num', 'ResID': 'hxder_log_pf_s1'}, inplace=True)\n",
    "# state1_forrest\n",
    "\n",
    "# #drop all columns except for the res_num and hxder_pf\n",
    "# state1_forrest = state1_forrest[['res_num', 'hxder_log_pf_s1']]\n",
    "\n",
    "# #add one to the res_num column \n",
    "# state1_forrest['res_num'] = state1_forrest['res_num'] + 1\n",
    "\n",
    "#state2\n",
    "state2_forrest.rename(columns={'#': 'res_num', 'ResID': 'hxder_log_pf_s2'}, inplace=True)\n",
    "state2_forrest = state2_forrest[['res_num', 'hxder_log_pf_s2']]\n",
    "\n",
    "#add one to the res_num column\n",
    "state2_forrest['res_num'] = state2_forrest['res_num'] + 1\n",
    "\n",
    "# #merge the two dataframes\n",
    "# merged_forrest = pd.merge(state1_forrest, state2_forrest, on='res_num')\n",
    "# #calculate the difference in protection factors\n",
    "# merged_forrest['hdxer_diff'] = merged_forrest['hxder_log_pf_s2'] - merged_forrest['hxder_log_pf_s1']\n",
    "# merged_forrest\n",
    "\n",
    "# #merge the two dataframes\n",
    "# merged = pd.merge(merged_imp, merged_forrest, on='res_num')\n",
    "# merged\n",
    "\n",
    "# #plot the difference in protection factors\n",
    "# plt.scatter(merged['yg_diff'], merged['hdxer_diff'])\n",
    "# #calculate the corelation coefficient\n",
    "# merged['yg_diff'].corr(merged['hdxer_diff'])\n",
    "\n",
    "# #add x and y labels and the pearson correlation coefficient to the plot \n",
    "# plt.xlabel('IMP Log Fold Change')\n",
    "# plt.ylabel('HDXer Log Fold Change')\n",
    "# #mvoe the text to the top left corner\n",
    "# plt.text(0.05, 0.95, f'pearson r: {merged[\"yg_diff\"].corr(merged[\"hdxer_diff\"]):.2f}', transform=plt.gca().transAxes, fontsize=12)\n",
    "# plt.title (\"Baker Hubbard\")\n",
    "# plt.savefig('bh_logfoldchange.png', dpi = 600)\n"
   ]
  },
  {
   "cell_type": "code",
   "execution_count": 8,
   "metadata": {},
   "outputs": [
    {
     "data": {
      "text/html": [
       "<div>\n",
       "<style scoped>\n",
       "    .dataframe tbody tr th:only-of-type {\n",
       "        vertical-align: middle;\n",
       "    }\n",
       "\n",
       "    .dataframe tbody tr th {\n",
       "        vertical-align: top;\n",
       "    }\n",
       "\n",
       "    .dataframe thead th {\n",
       "        text-align: right;\n",
       "    }\n",
       "</style>\n",
       "<table border=\"1\" class=\"dataframe\">\n",
       "  <thead>\n",
       "    <tr style=\"text-align: right;\">\n",
       "      <th></th>\n",
       "      <th>res_num</th>\n",
       "      <th>hxder_log_pf_s2</th>\n",
       "    </tr>\n",
       "  </thead>\n",
       "  <tbody>\n",
       "    <tr>\n",
       "      <th>0</th>\n",
       "      <td>2</td>\n",
       "      <td>1.75</td>\n",
       "    </tr>\n",
       "    <tr>\n",
       "      <th>1</th>\n",
       "      <td>3</td>\n",
       "      <td>2.10</td>\n",
       "    </tr>\n",
       "    <tr>\n",
       "      <th>2</th>\n",
       "      <td>4</td>\n",
       "      <td>3.50</td>\n",
       "    </tr>\n",
       "    <tr>\n",
       "      <th>3</th>\n",
       "      <td>5</td>\n",
       "      <td>4.55</td>\n",
       "    </tr>\n",
       "    <tr>\n",
       "      <th>4</th>\n",
       "      <td>6</td>\n",
       "      <td>7.60</td>\n",
       "    </tr>\n",
       "    <tr>\n",
       "      <th>5</th>\n",
       "      <td>7</td>\n",
       "      <td>7.25</td>\n",
       "    </tr>\n",
       "    <tr>\n",
       "      <th>6</th>\n",
       "      <td>8</td>\n",
       "      <td>8.20</td>\n",
       "    </tr>\n",
       "    <tr>\n",
       "      <th>7</th>\n",
       "      <td>9</td>\n",
       "      <td>5.50</td>\n",
       "    </tr>\n",
       "    <tr>\n",
       "      <th>8</th>\n",
       "      <td>10</td>\n",
       "      <td>4.20</td>\n",
       "    </tr>\n",
       "  </tbody>\n",
       "</table>\n",
       "</div>"
      ],
      "text/plain": [
       "   res_num  hxder_log_pf_s2\n",
       "0        2             1.75\n",
       "1        3             2.10\n",
       "2        4             3.50\n",
       "3        5             4.55\n",
       "4        6             7.60\n",
       "5        7             7.25\n",
       "6        8             8.20\n",
       "7        9             5.50\n",
       "8       10             4.20"
      ]
     },
     "execution_count": 8,
     "metadata": {},
     "output_type": "execute_result"
    }
   ],
   "source": [
    "state2_forrest"
   ]
  },
  {
   "cell_type": "code",
   "execution_count": 9,
   "metadata": {},
   "outputs": [
    {
     "data": {
      "text/plain": [
       "<matplotlib.collections.PathCollection at 0x1653495e0>"
      ]
     },
     "execution_count": 9,
     "metadata": {},
     "output_type": "execute_result"
    },
    {
     "data": {
      "image/png": "[encoded data removed]",
      "text/plain": [
       "<Figure size 640x480 with 1 Axes>"
      ]
     },
     "metadata": {},
     "output_type": "display_data"
    }
   ],
   "source": [
    "plt.scatter(df['res_num'], df['pf'])"
   ]
  },
  {
   "cell_type": "code",
   "execution_count": null,
   "metadata": {},
   "outputs": [],
   "source": []
  },
  {
   "cell_type": "code",
   "execution_count": 10,
   "metadata": {},
   "outputs": [
    {
     "data": {
      "image/png": "[encoded data removed]",
      "text/plain": [
       "<Figure size 640x480 with 1 Axes>"
      ]
     },
     "metadata": {},
     "output_type": "display_data"
    }
   ],
   "source": [
    "sequence = 'MAPLRKTAVLKLYVAGNTPNSVRALKTLNNILEKEFKGVYALKVIDVLKNPQLAEEDKILATPTLAKVLPPPVRRIIGDLSNREKVLIALRLLAEEIGD'\n",
    "\n",
    "merged = pd.merge(df, state2_forrest, on='res_num')\n",
    "merged['aa'] = [sequence[i-1] for i in merged['res_num']]\n",
    "\n",
    "amino_acid_codes = [\n",
    "    \"A\",  # Alanine\n",
    "    \"R\",  # Arginine\n",
    "    \"N\",  # Asparagine\n",
    "    \"D\",  # Aspartic Acid\n",
    "    \"C\",  # Cysteine\n",
    "    \"E\",  # Glutamic Acid\n",
    "    \"Q\",  # Glutamine\n",
    "    \"G\",  # Glycine\n",
    "    \"H\",  # Histidine\n",
    "    \"I\",  # Isoleucine\n",
    "    \"L\",  # Leucine\n",
    "    \"K\",  # Lysine\n",
    "    \"M\",  # Methionine\n",
    "    \"F\",  # Phenylalanine\n",
    "    \"P\",  # Proline\n",
    "    \"S\",  # Serine\n",
    "    \"T\",  # Threonine\n",
    "    \"W\",  # Tryptophan\n",
    "    \"Y\",  # Tyrosine\n",
    "    \"V\"   # Valine\n",
    "]\n",
    "\n",
    "#plot correlation between protection factors\n",
    "sns.scatterplot(x = merged['pf'], y = merged['hxder_log_pf_s2'])\n",
    "#calculate the corelation coefficient\n",
    "merged['pf'].corr(merged['hxder_log_pf_s2'])\n",
    "#print the correlation coefficient on the plot\n",
    "plt.text(0.05, 0.95, f'pearson r: {merged[\"pf\"].corr(merged[\"hxder_log_pf_s2\"]):.2f}', transform=plt.gca().transAxes, fontsize=12)\n",
    "#add x and y labels\n",
    "plt.xlabel('IMP Protection Factor')\n",
    "plt.ylabel('HDXer Log Fold Change')\n",
    "plt.title (\"Baker Hubbard\")\n",
    "#x and y limits\n",
    "plt.xlim(0, 25)\n",
    "plt.ylim(0, 25)\n",
    "#plot x = y line\n",
    "plt.plot([0, 25], [0, 25], color='red')\n",
    "plt.savefig('polyA_scatter.png', dpi = 600)\n",
    "\n",
    "\n",
    "\n"
   ]
  },
  {
   "cell_type": "code",
   "execution_count": null,
   "metadata": {},
   "outputs": [],
   "source": []
  },
  {
   "cell_type": "code",
   "execution_count": 11,
   "metadata": {},
   "outputs": [
    {
     "data": {
      "image/png": "[encoded data removed]",
      "text/plain": [
       "<Figure size 640x480 with 1 Axes>"
      ]
     },
     "metadata": {},
     "output_type": "display_data"
    }
   ],
   "source": [
    "plt.scatter(merged['res_num'], merged['pf'], label = 'IMP')\n",
    "plt.scatter(merged['res_num'], merged['hxder_log_pf_s2'], label = 'HDXER')\n",
    "plt.legend(loc = 'upper left')\n",
    "plt.xlabel('Residue Number')\n",
    "plt.ylabel('Protection Factor')\n",
    "plt.savefig('polyA_imp_hdxer.png', dpi = 600)\n"
   ]
  },
  {
   "cell_type": "code",
   "execution_count": null,
   "metadata": {},
   "outputs": [],
   "source": [
    "merged"
   ]
  },
  {
   "cell_type": "code",
   "execution_count": 12,
   "metadata": {},
   "outputs": [
    {
     "data": {
      "text/plain": [
       "<Axes: xlabel='diff', ylabel='Count'>"
      ]
     },
     "execution_count": 12,
     "metadata": {},
     "output_type": "execute_result"
    },
    {
     "data": {
      "image/png": "[encoded data removed]",
      "text/plain": [
       "<Figure size 640x480 with 1 Axes>"
      ]
     },
     "metadata": {},
     "output_type": "display_data"
    }
   ],
   "source": [
    "#difference between pf and hdxer_log_pf_s2\n",
    "merged['diff'] = merged['pf'] - merged['hxder_log_pf_s2']\n",
    "#histogram of the difference\n",
    "sns.histplot(merged['diff'], bins = 20)"
   ]
  },
  {
   "cell_type": "code",
   "execution_count": null,
   "metadata": {},
   "outputs": [],
   "source": [
    "merged['diff']"
   ]
  },
  {
   "cell_type": "code",
   "execution_count": null,
   "metadata": {},
   "outputs": [],
   "source": [
    "# plot the correlation between the protection factors of two methods and allows the user to specify \n",
    "def plot_correlation(distance_threshold = 7, d0 = 0, k = 1):\n",
    "    state2_forrest = '/Users/yuliagutierrez/Desktop/F24/sali_lab/rotation_project/stateH_logPF.dat'\n",
    "    state2_forrest = pd.read_csv(state2_forrest, delim_whitespace=True)\n",
    "    state2_forrest.rename(columns={'#': 'res_num', 'ResID': 'hxder_log_pf_s2'}, inplace=True)\n",
    "    state2_forrest = state2_forrest[['res_num', 'hxder_log_pf_s2']]\n",
    "    state2_forrest['res_num'] = state2_forrest['res_num'] + 1\n",
    "    structure = bh.load_pdb_bio('stateH+babel.pdb')\n",
    "    heavy_atoms = bh.count_heavy_atom_contacts_sigmoid(structure, distance_threshold, d0, k)\n",
    "    hbonds = bh.calculate_hbond_number('stateH+babel.pdb')\n",
    "    protection_factors = {}\n",
    "    for residue in contacts:\n",
    "        protection_factors[residue] = bh*contacts[residue] + bc*hbonds[residue]\n",
    "pf = calculate_protection_factors(contacts, hbonds, 0.35, 2)\n",
    "    \n",
    "    \n",
    "    \n",
    "    #make a dictionary of the heavy atom contacts with the residue number as the key\n",
    "    contacts = {}\n",
    "    for residue, contact in heavy_atoms.items():\n",
    "        contacts[residue.id[1]] = contact\n",
    "    \n",
    "\n",
    "\n",
    "\n",
    "\n"
   ]
  },
  {
   "cell_type": "code",
   "execution_count": null,
   "metadata": {},
   "outputs": [],
   "source": [
    "plt.scatter(merged['res_num'], merged['yg_diff'])\n",
    "#change the x and y labels\n",
    "plt.xlabel('Residue Number')\n",
    "plt.ylabel('IMP Log Fold Change')\n",
    "plt.title (\"Baker Hubbard\")\n",
    "\n",
    "plt.axvspan(49, 61, color='red', alpha=0.5)\n",
    "\n",
    "#add y = 0\n",
    "plt.axhline(0, color='black', linestyle='--')   \n",
    "#save fig\n",
    "plt.savefig('bh_resnum.png', dpi = 600)"
   ]
  },
  {
   "cell_type": "code",
   "execution_count": null,
   "metadata": {},
   "outputs": [],
   "source": [
    "plt.scatter(merged['res_num'], merged['hdxer_diff'])"
   ]
  },
  {
   "cell_type": "code",
   "execution_count": null,
   "metadata": {},
   "outputs": [],
   "source": [
    "#merge df and state2_forrest\n",
    "merged_H = pd.merge(state2_imp, state2_forrest, on='res_num', how='inner') \n",
    "merged_H"
   ]
  },
  {
   "cell_type": "code",
   "execution_count": null,
   "metadata": {},
   "outputs": [],
   "source": [
    "#make a scatter plot of the two protection factors\n",
    "plt.scatter(merged_H['yg_pf_2'], merged_H['hxder_log_pf_s2'])\n",
    "\n",
    "#change the X and Y labels\n",
    "plt.xlabel('IMP')\n",
    "plt.ylabel('HXDER')\n",
    "plt.title(\"Log Protection Factors for State H\")\n",
    "#calculate the correlation coefficient\n",
    "merged_H['yg_pf_2'].corr(merged_H['hxder_log_pf_s2'])"
   ]
  },
  {
   "cell_type": "code",
   "execution_count": null,
   "metadata": {},
   "outputs": [],
   "source": [
    "#make a scatter plot of the two protection factors\n",
    "plt.scatter(merged['yg_pf_1'], merged['hxder_log_pf_s1'])\n",
    "\n",
    "#change the X and Y labels\n",
    "plt.xlabel('IMP')\n",
    "plt.ylabel('HXDER')\n",
    "plt.title(\"Log Protection Factors for State U\")\n",
    "#calculate the correlation coefficient\n",
    "merged['yg_pf_1'].corr(merged['hxder_log_pf_s1'])\n"
   ]
  },
  {
   "cell_type": "code",
   "execution_count": null,
   "metadata": {},
   "outputs": [],
   "source": [
    "# Assuming merged_H and merged are DataFrames with the required columns\n",
    "# merged_H['yg_pf_2'], merged_H['hxder_log_pf_s2'], merged['yg_pf_1'], merged['hxder_log_pf_s1']\n",
    "\n",
    "plt.figure(figsize=(10, 5))  # Adjust the figure size to be wider\n",
    "fig, axs = plt.subplots(1, 2, figsize=(10, 5))  # Create a figure with 1 row and 2 columns\n",
    "\n",
    "# Plot for State H\n",
    "axs[0].scatter(merged_H['yg_pf_2'], merged_H['hxder_log_pf_s2'])\n",
    "axs[0].set_title('State H')\n",
    "axs[0].set_xlabel('IMP PF')\n",
    "axs[0].set_ylabel('HXDER PF')\n",
    "\n",
    "# Plot for State U\n",
    "axs[1].scatter(merged['yg_pf_1'], merged['hxder_log_pf_s1'])\n",
    "axs[1].set_title('State U')\n",
    "axs[1].set_xlabel('IMP PF')\n",
    "axs[1].set_ylabel('HXDER PF')\n",
    "\n",
    "axs[0].text(0.05, 0.95, f'pearson r: {merged_H[\"yg_pf_2\"].corr(merged_H[\"hxder_log_pf_s2\"]):.2f}', transform=axs[0].transAxes, fontsize=12, verticalalignment='top')\n",
    "axs[1].text(0.05, 0.95, f'pearson r: {merged[\"yg_pf_1\"].corr(merged[\"hxder_log_pf_s1\"]):.2f}', transform=axs[1].transAxes, fontsize=12, verticalalignment='top')\n",
    "\n",
    "# Adjust layout for better spacing\n",
    "plt.tight_layout()\n",
    "\n",
    "# save the plot\n",
    "plt.savefig('scatter_plot_bh.png', dpi = 600)\n",
    "\n",
    "# Show the plot\n",
    "plt.show()\n"
   ]
  },
  {
   "cell_type": "code",
   "execution_count": null,
   "metadata": {},
   "outputs": [],
   "source": []
  }
 ],
 "metadata": {
  "kernelspec": {
   "display_name": "imp",
   "language": "python",
   "name": "python3"
  },
  "language_info": {
   "codemirror_mode": {
    "name": "ipython",
    "version": 3
   },
   "file_extension": ".py",
   "mimetype": "text/x-python",
   "name": "python",
   "nbconvert_exporter": "python",
   "pygments_lexer": "ipython3",
   "version": "3.12.3"
  }
 },
 "nbformat": 4,
 "nbformat_minor": 2
}
